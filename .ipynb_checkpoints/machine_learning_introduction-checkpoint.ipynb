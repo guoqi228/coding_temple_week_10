{
 "cells": [
  {
   "cell_type": "code",
   "execution_count": 115,
   "metadata": {},
   "outputs": [],
   "source": [
    "import numpy as np\n",
    "import pandas as pd\n",
    "import matplotlib.pyplot as plt"
   ]
  },
  {
   "cell_type": "markdown",
   "metadata": {},
   "source": [
    "- Exploratory data analysis\n",
    "- Data Cleaning\n",
    "- Feature Engineering\n",
    "- Model Selection\n",
    "- Model Training"
   ]
  },
  {
   "cell_type": "code",
   "execution_count": 116,
   "metadata": {},
   "outputs": [],
   "source": [
    "df = pd.read_csv('FIFA 2018 Statistics.csv')"
   ]
  },
  {
   "cell_type": "code",
   "execution_count": 117,
   "metadata": {},
   "outputs": [
    {
     "data": {
      "text/html": [
       "<div>\n",
       "<style scoped>\n",
       "    .dataframe tbody tr th:only-of-type {\n",
       "        vertical-align: middle;\n",
       "    }\n",
       "\n",
       "    .dataframe tbody tr th {\n",
       "        vertical-align: top;\n",
       "    }\n",
       "\n",
       "    .dataframe thead th {\n",
       "        text-align: right;\n",
       "    }\n",
       "</style>\n",
       "<table border=\"1\" class=\"dataframe\">\n",
       "  <thead>\n",
       "    <tr style=\"text-align: right;\">\n",
       "      <th></th>\n",
       "      <th>Date</th>\n",
       "      <th>Team</th>\n",
       "      <th>Opponent</th>\n",
       "      <th>Goal Scored</th>\n",
       "      <th>Ball Possession %</th>\n",
       "      <th>Attempts</th>\n",
       "      <th>On-Target</th>\n",
       "      <th>Off-Target</th>\n",
       "      <th>Blocked</th>\n",
       "      <th>Corners</th>\n",
       "      <th>...</th>\n",
       "      <th>Yellow Card</th>\n",
       "      <th>Yellow &amp; Red</th>\n",
       "      <th>Red</th>\n",
       "      <th>Man of the Match</th>\n",
       "      <th>1st Goal</th>\n",
       "      <th>Round</th>\n",
       "      <th>PSO</th>\n",
       "      <th>Goals in PSO</th>\n",
       "      <th>Own goals</th>\n",
       "      <th>Own goal Time</th>\n",
       "    </tr>\n",
       "  </thead>\n",
       "  <tbody>\n",
       "    <tr>\n",
       "      <th>0</th>\n",
       "      <td>14-06-2018</td>\n",
       "      <td>Russia</td>\n",
       "      <td>Saudi Arabia</td>\n",
       "      <td>5</td>\n",
       "      <td>40</td>\n",
       "      <td>13</td>\n",
       "      <td>7</td>\n",
       "      <td>3</td>\n",
       "      <td>3</td>\n",
       "      <td>6</td>\n",
       "      <td>...</td>\n",
       "      <td>0</td>\n",
       "      <td>0</td>\n",
       "      <td>0</td>\n",
       "      <td>Yes</td>\n",
       "      <td>12.0</td>\n",
       "      <td>Group Stage</td>\n",
       "      <td>No</td>\n",
       "      <td>0</td>\n",
       "      <td>NaN</td>\n",
       "      <td>NaN</td>\n",
       "    </tr>\n",
       "    <tr>\n",
       "      <th>1</th>\n",
       "      <td>14-06-2018</td>\n",
       "      <td>Saudi Arabia</td>\n",
       "      <td>Russia</td>\n",
       "      <td>0</td>\n",
       "      <td>60</td>\n",
       "      <td>6</td>\n",
       "      <td>0</td>\n",
       "      <td>3</td>\n",
       "      <td>3</td>\n",
       "      <td>2</td>\n",
       "      <td>...</td>\n",
       "      <td>0</td>\n",
       "      <td>0</td>\n",
       "      <td>0</td>\n",
       "      <td>No</td>\n",
       "      <td>NaN</td>\n",
       "      <td>Group Stage</td>\n",
       "      <td>No</td>\n",
       "      <td>0</td>\n",
       "      <td>NaN</td>\n",
       "      <td>NaN</td>\n",
       "    </tr>\n",
       "    <tr>\n",
       "      <th>2</th>\n",
       "      <td>15-06-2018</td>\n",
       "      <td>Egypt</td>\n",
       "      <td>Uruguay</td>\n",
       "      <td>0</td>\n",
       "      <td>43</td>\n",
       "      <td>8</td>\n",
       "      <td>3</td>\n",
       "      <td>3</td>\n",
       "      <td>2</td>\n",
       "      <td>0</td>\n",
       "      <td>...</td>\n",
       "      <td>2</td>\n",
       "      <td>0</td>\n",
       "      <td>0</td>\n",
       "      <td>No</td>\n",
       "      <td>NaN</td>\n",
       "      <td>Group Stage</td>\n",
       "      <td>No</td>\n",
       "      <td>0</td>\n",
       "      <td>NaN</td>\n",
       "      <td>NaN</td>\n",
       "    </tr>\n",
       "    <tr>\n",
       "      <th>3</th>\n",
       "      <td>15-06-2018</td>\n",
       "      <td>Uruguay</td>\n",
       "      <td>Egypt</td>\n",
       "      <td>1</td>\n",
       "      <td>57</td>\n",
       "      <td>14</td>\n",
       "      <td>4</td>\n",
       "      <td>6</td>\n",
       "      <td>4</td>\n",
       "      <td>5</td>\n",
       "      <td>...</td>\n",
       "      <td>0</td>\n",
       "      <td>0</td>\n",
       "      <td>0</td>\n",
       "      <td>Yes</td>\n",
       "      <td>89.0</td>\n",
       "      <td>Group Stage</td>\n",
       "      <td>No</td>\n",
       "      <td>0</td>\n",
       "      <td>NaN</td>\n",
       "      <td>NaN</td>\n",
       "    </tr>\n",
       "    <tr>\n",
       "      <th>4</th>\n",
       "      <td>15-06-2018</td>\n",
       "      <td>Morocco</td>\n",
       "      <td>Iran</td>\n",
       "      <td>0</td>\n",
       "      <td>64</td>\n",
       "      <td>13</td>\n",
       "      <td>3</td>\n",
       "      <td>6</td>\n",
       "      <td>4</td>\n",
       "      <td>5</td>\n",
       "      <td>...</td>\n",
       "      <td>1</td>\n",
       "      <td>0</td>\n",
       "      <td>0</td>\n",
       "      <td>No</td>\n",
       "      <td>NaN</td>\n",
       "      <td>Group Stage</td>\n",
       "      <td>No</td>\n",
       "      <td>0</td>\n",
       "      <td>1.0</td>\n",
       "      <td>90.0</td>\n",
       "    </tr>\n",
       "  </tbody>\n",
       "</table>\n",
       "<p>5 rows × 27 columns</p>\n",
       "</div>"
      ],
      "text/plain": [
       "         Date          Team      Opponent  Goal Scored  Ball Possession %  \\\n",
       "0  14-06-2018        Russia  Saudi Arabia            5                 40   \n",
       "1  14-06-2018  Saudi Arabia        Russia            0                 60   \n",
       "2  15-06-2018         Egypt       Uruguay            0                 43   \n",
       "3  15-06-2018       Uruguay         Egypt            1                 57   \n",
       "4  15-06-2018       Morocco          Iran            0                 64   \n",
       "\n",
       "   Attempts  On-Target  Off-Target  Blocked  Corners      ...        \\\n",
       "0        13          7           3        3        6      ...         \n",
       "1         6          0           3        3        2      ...         \n",
       "2         8          3           3        2        0      ...         \n",
       "3        14          4           6        4        5      ...         \n",
       "4        13          3           6        4        5      ...         \n",
       "\n",
       "   Yellow Card  Yellow & Red  Red  Man of the Match  1st Goal        Round  \\\n",
       "0            0             0    0               Yes      12.0  Group Stage   \n",
       "1            0             0    0                No       NaN  Group Stage   \n",
       "2            2             0    0                No       NaN  Group Stage   \n",
       "3            0             0    0               Yes      89.0  Group Stage   \n",
       "4            1             0    0                No       NaN  Group Stage   \n",
       "\n",
       "   PSO  Goals in PSO  Own goals  Own goal Time  \n",
       "0   No             0        NaN            NaN  \n",
       "1   No             0        NaN            NaN  \n",
       "2   No             0        NaN            NaN  \n",
       "3   No             0        NaN            NaN  \n",
       "4   No             0        1.0           90.0  \n",
       "\n",
       "[5 rows x 27 columns]"
      ]
     },
     "execution_count": 117,
     "metadata": {},
     "output_type": "execute_result"
    }
   ],
   "source": [
    "df.head()"
   ]
  },
  {
   "cell_type": "code",
   "execution_count": 118,
   "metadata": {},
   "outputs": [
    {
     "name": "stdout",
     "output_type": "stream",
     "text": [
      "<class 'pandas.core.frame.DataFrame'>\n",
      "RangeIndex: 128 entries, 0 to 127\n",
      "Data columns (total 27 columns):\n",
      "Date                      128 non-null object\n",
      "Team                      128 non-null object\n",
      "Opponent                  128 non-null object\n",
      "Goal Scored               128 non-null int64\n",
      "Ball Possession %         128 non-null int64\n",
      "Attempts                  128 non-null int64\n",
      "On-Target                 128 non-null int64\n",
      "Off-Target                128 non-null int64\n",
      "Blocked                   128 non-null int64\n",
      "Corners                   128 non-null int64\n",
      "Offsides                  128 non-null int64\n",
      "Free Kicks                128 non-null int64\n",
      "Saves                     128 non-null int64\n",
      "Pass Accuracy %           128 non-null int64\n",
      "Passes                    128 non-null int64\n",
      "Distance Covered (Kms)    128 non-null int64\n",
      "Fouls Committed           128 non-null int64\n",
      "Yellow Card               128 non-null int64\n",
      "Yellow & Red              128 non-null int64\n",
      "Red                       128 non-null int64\n",
      "Man of the Match          128 non-null object\n",
      "1st Goal                  94 non-null float64\n",
      "Round                     128 non-null object\n",
      "PSO                       128 non-null object\n",
      "Goals in PSO              128 non-null int64\n",
      "Own goals                 12 non-null float64\n",
      "Own goal Time             12 non-null float64\n",
      "dtypes: float64(3), int64(18), object(6)\n",
      "memory usage: 27.1+ KB\n"
     ]
    }
   ],
   "source": [
    "df.info()"
   ]
  },
  {
   "cell_type": "code",
   "execution_count": 119,
   "metadata": {},
   "outputs": [
    {
     "data": {
      "text/plain": [
       "<matplotlib.axes._subplots.AxesSubplot at 0x1c1c714c7f0>"
      ]
     },
     "execution_count": 119,
     "metadata": {},
     "output_type": "execute_result"
    },
    {
     "data": {
      "image/png": "[encoded data removed]",
      "text/plain": [
       "<Figure size 432x288 with 1 Axes>"
      ]
     },
     "metadata": {},
     "output_type": "display_data"
    }
   ],
   "source": [
    "df['Ball Possession %'].hist()"
   ]
  },
  {
   "cell_type": "code",
   "execution_count": 120,
   "metadata": {},
   "outputs": [
    {
     "name": "stderr",
     "output_type": "stream",
     "text": [
      "C:\\ProgramData\\Anaconda3\\lib\\site-packages\\IPython\\core\\interactiveshell.py:2963: UserWarning: To output multiple subplots, the figure containing the passed axes is being cleared\n",
      "  exec(code_obj, self.user_global_ns, self.user_ns)\n"
     ]
    },
    {
     "data": {
      "text/plain": [
       "array([[<matplotlib.axes._subplots.AxesSubplot object at 0x000001C1C7E2E390>,\n",
       "        <matplotlib.axes._subplots.AxesSubplot object at 0x000001C1C7E837B8>,\n",
       "        <matplotlib.axes._subplots.AxesSubplot object at 0x000001C1C7EAAE10>,\n",
       "        <matplotlib.axes._subplots.AxesSubplot object at 0x000001C1C7EDC4E0>,\n",
       "        <matplotlib.axes._subplots.AxesSubplot object at 0x000001C1C7F05B70>],\n",
       "       [<matplotlib.axes._subplots.AxesSubplot object at 0x000001C1C7F05BA8>,\n",
       "        <matplotlib.axes._subplots.AxesSubplot object at 0x000001C1C7F610F0>,\n",
       "        <matplotlib.axes._subplots.AxesSubplot object at 0x000001C1C7F87780>,\n",
       "        <matplotlib.axes._subplots.AxesSubplot object at 0x000001C1C7FB1DA0>,\n",
       "        <matplotlib.axes._subplots.AxesSubplot object at 0x000001C1C7FE2470>],\n",
       "       [<matplotlib.axes._subplots.AxesSubplot object at 0x000001C1C8008B00>,\n",
       "        <matplotlib.axes._subplots.AxesSubplot object at 0x000001C1C803C1D0>,\n",
       "        <matplotlib.axes._subplots.AxesSubplot object at 0x000001C1C8062860>,\n",
       "        <matplotlib.axes._subplots.AxesSubplot object at 0x000001C1C808AEF0>,\n",
       "        <matplotlib.axes._subplots.AxesSubplot object at 0x000001C1C80BF5C0>],\n",
       "       [<matplotlib.axes._subplots.AxesSubplot object at 0x000001C1C80E7C50>,\n",
       "        <matplotlib.axes._subplots.AxesSubplot object at 0x000001C1C8117320>,\n",
       "        <matplotlib.axes._subplots.AxesSubplot object at 0x000001C1C813F9B0>,\n",
       "        <matplotlib.axes._subplots.AxesSubplot object at 0x000001C1C8171080>,\n",
       "        <matplotlib.axes._subplots.AxesSubplot object at 0x000001C1C8198710>],\n",
       "       [<matplotlib.axes._subplots.AxesSubplot object at 0x000001C1C7229518>,\n",
       "        <matplotlib.axes._subplots.AxesSubplot object at 0x000001C1C55A4F60>,\n",
       "        <matplotlib.axes._subplots.AxesSubplot object at 0x000001C1C81BF0B8>,\n",
       "        <matplotlib.axes._subplots.AxesSubplot object at 0x000001C1C81E6748>,\n",
       "        <matplotlib.axes._subplots.AxesSubplot object at 0x000001C1C820DDD8>]],\n",
       "      dtype=object)"
      ]
     },
     "execution_count": 120,
     "metadata": {},
     "output_type": "execute_result"
    },
    {
     "data": {
      "image/png": "[encoded data removed]",
      "text/plain": [
       "<Figure size 1080x1080 with 25 Axes>"
      ]
     },
     "metadata": {},
     "output_type": "display_data"
    }
   ],
   "source": [
    "fig = plt.figure(figsize=(15,15))\n",
    "ax = fig.add_subplot(111)\n",
    "df.hist(ax=ax)"
   ]
  },
  {
   "cell_type": "code",
   "execution_count": 121,
   "metadata": {},
   "outputs": [
    {
     "data": {
      "text/plain": [
       "Index(['Date', 'Team', 'Opponent', 'Goal Scored', 'Ball Possession %',\n",
       "       'Attempts', 'On-Target', 'Off-Target', 'Blocked', 'Corners', 'Offsides',\n",
       "       'Free Kicks', 'Saves', 'Pass Accuracy %', 'Passes',\n",
       "       'Distance Covered (Kms)', 'Fouls Committed', 'Yellow Card', 'Red',\n",
       "       'Man of the Match', '1st Goal', 'Round', 'PSO', 'Goals in PSO',\n",
       "       'Own goals', 'Own goal Time'],\n",
       "      dtype='object')"
      ]
     },
     "execution_count": 121,
     "metadata": {},
     "output_type": "execute_result"
    }
   ],
   "source": [
    "new_df = df.drop(['Yellow & Red'], axis=1)\n",
    "new_df.columns"
   ]
  },
  {
   "cell_type": "code",
   "execution_count": 122,
   "metadata": {},
   "outputs": [
    {
     "data": {
      "text/plain": [
       "0    0.0\n",
       "1    0.0\n",
       "2    0.0\n",
       "3    0.0\n",
       "4    1.0\n",
       "Name: Own goals, dtype: float64"
      ]
     },
     "execution_count": 122,
     "metadata": {},
     "output_type": "execute_result"
    }
   ],
   "source": [
    "new_df['Own goals'] = new_df['Own goals'].fillna(0)\n",
    "new_df['Own goals'].head()"
   ]
  },
  {
   "cell_type": "code",
   "execution_count": 123,
   "metadata": {},
   "outputs": [
    {
     "data": {
      "text/plain": [
       "0     True\n",
       "1     True\n",
       "2     True\n",
       "3     True\n",
       "4    False\n",
       "Name: Own goals bool, dtype: bool"
      ]
     },
     "execution_count": 123,
     "metadata": {},
     "output_type": "execute_result"
    }
   ],
   "source": [
    "new_df['Own goals bool'] = new_df['Own goal Time'].isna()\n",
    "new_df['Own goals bool'].head()"
   ]
  },
  {
   "cell_type": "code",
   "execution_count": 124,
   "metadata": {},
   "outputs": [
    {
     "data": {
      "text/plain": [
       "0     0.0\n",
       "1     0.0\n",
       "2     0.0\n",
       "3     0.0\n",
       "4    90.0\n",
       "Name: Own goal Time, dtype: float64"
      ]
     },
     "execution_count": 124,
     "metadata": {},
     "output_type": "execute_result"
    }
   ],
   "source": [
    "new_df['Own goal Time'] = new_df['Own goal Time'].fillna(0)\n",
    "new_df['Own goal Time'].head()"
   ]
  },
  {
   "cell_type": "code",
   "execution_count": 125,
   "metadata": {},
   "outputs": [
    {
     "data": {
      "text/plain": [
       "0    12.0\n",
       "1    90.0\n",
       "2    90.0\n",
       "3    89.0\n",
       "4    90.0\n",
       "Name: 1st Goal, dtype: float64"
      ]
     },
     "execution_count": 125,
     "metadata": {},
     "output_type": "execute_result"
    }
   ],
   "source": [
    "new_df['1st Goal'] = new_df['1st Goal'].fillna(90)\n",
    "new_df['1st Goal'].head()"
   ]
  },
  {
   "cell_type": "markdown",
   "metadata": {},
   "source": [
    "### Predict 'Man of the match'"
   ]
  },
  {
   "cell_type": "code",
   "execution_count": 126,
   "metadata": {},
   "outputs": [
    {
     "data": {
      "text/plain": [
       "0    Yes\n",
       "1     No\n",
       "2     No\n",
       "3    Yes\n",
       "4     No\n",
       "Name: Man of the Match, dtype: object"
      ]
     },
     "execution_count": 126,
     "metadata": {},
     "output_type": "execute_result"
    }
   ],
   "source": [
    "new_df['Man of the Match'].head()"
   ]
  },
  {
   "cell_type": "code",
   "execution_count": null,
   "metadata": {},
   "outputs": [],
   "source": []
  },
  {
   "cell_type": "markdown",
   "metadata": {},
   "source": [
    "#### K Nearest Neigbor - KNN"
   ]
  },
  {
   "cell_type": "code",
   "execution_count": 127,
   "metadata": {},
   "outputs": [],
   "source": [
    "from sklearn.neighbors import KNeighborsClassifier\n",
    "from sklearn.model_selection import train_test_split "
   ]
  },
  {
   "cell_type": "code",
   "execution_count": 128,
   "metadata": {},
   "outputs": [],
   "source": [
    "# training_features, testing_features, training_target, testing_target = train_test_split(scaled, new_df['Man of the Match'], test_size = .2, random_state = 42)\n",
    "# clf = KNeighborsClassifier(n_neighbors = 3)\n",
    "# clf.fit(training_features, training_target)\n",
    "# prediction = clf.predict(testing_features)\n",
    "# clf.score(prediction, testing_target)"
   ]
  },
  {
   "cell_type": "code",
   "execution_count": 129,
   "metadata": {},
   "outputs": [],
   "source": [
    "from sklearn.linear_model import SGDClassifier "
   ]
  },
  {
   "cell_type": "code",
   "execution_count": 130,
   "metadata": {},
   "outputs": [
    {
     "data": {
      "text/plain": [
       "0    1\n",
       "1    0\n",
       "2    0\n",
       "3    1\n",
       "4    0\n",
       "Name: Man of the Match, dtype: int64"
      ]
     },
     "execution_count": 130,
     "metadata": {},
     "output_type": "execute_result"
    }
   ],
   "source": [
    "new_df['Man of the Match'] = new_df['Man of the Match'].map({'Yes': 1, 'No':0})\n",
    "new_df['Man of the Match'].head()"
   ]
  },
  {
   "cell_type": "code",
   "execution_count": 131,
   "metadata": {},
   "outputs": [
    {
     "data": {
      "text/plain": [
       "Man of the Match          1.000000\n",
       "Goal Scored               0.508629\n",
       "On-Target                 0.263265\n",
       "Attempts                  0.152503\n",
       "Corners                   0.147497\n",
       "Off-Target                0.139960\n",
       "Free Kicks                0.109573\n",
       "Ball Possession %         0.107389\n",
       "Pass Accuracy %           0.104421\n",
       "Passes                    0.091668\n",
       "Own goals bool            0.053606\n",
       "Goals in PSO              0.038873\n",
       "Offsides                  0.026288\n",
       "Distance Covered (Kms)    0.026034\n",
       "Saves                    -0.011481\n",
       "Blocked                  -0.032637\n",
       "Own goal Time            -0.040062\n",
       "Own goals                -0.053606\n",
       "Fouls Committed          -0.118859\n",
       "Yellow Card              -0.124265\n",
       "Red                      -0.125988\n",
       "1st Goal                 -0.380064\n",
       "Name: Man of the Match, dtype: float64"
      ]
     },
     "execution_count": 131,
     "metadata": {},
     "output_type": "execute_result"
    }
   ],
   "source": [
    "new_df.corr()['Man of the Match'].sort_values(ascending=False)"
   ]
  },
  {
   "cell_type": "code",
   "execution_count": 132,
   "metadata": {},
   "outputs": [],
   "source": [
    "from sklearn.preprocessing import scale\n",
    "df_features = new_df[['Goal Scored', 'On-Target', 'Attempts', 'Corners']]\n",
    "df_scaled = scale(df_features)"
   ]
  },
  {
   "cell_type": "code",
   "execution_count": 133,
   "metadata": {},
   "outputs": [
    {
     "data": {
      "text/plain": [
       "0.717948717948718"
      ]
     },
     "execution_count": 133,
     "metadata": {},
     "output_type": "execute_result"
    }
   ],
   "source": [
    "x_training, x_testing, y_training, y_testing = train_test_split(df_scaled, new_df['Man of the Match'], test_size = .3, random_state = 42)\n",
    "clf = KNeighborsClassifier(n_neighbors = 15)\n",
    "clf.fit(x_training, y_training)\n",
    "y_prediction = clf.predict(x_testing)\n",
    "clf.score(x_testing, y_testing)"
   ]
  },
  {
   "cell_type": "code",
   "execution_count": null,
   "metadata": {},
   "outputs": [],
   "source": []
  }
 ],
 "metadata": {
  "kernelspec": {
   "display_name": "Python 3",
   "language": "python",
   "name": "python3"
  },
  "language_info": {
   "codemirror_mode": {
    "name": "ipython",
    "version": 3
   },
   "file_extension": ".py",
   "mimetype": "text/x-python",
   "name": "python",
   "nbconvert_exporter": "python",
   "pygments_lexer": "ipython3",
   "version": "3.6.5"
  }
 },
 "nbformat": 4,
 "nbformat_minor": 2
}
